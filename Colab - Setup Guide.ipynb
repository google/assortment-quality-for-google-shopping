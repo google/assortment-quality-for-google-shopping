{
  "nbformat": 4,
  "nbformat_minor": 0,
  "metadata": {
    "colab": {
      "name": "Assortment Quality - Install Colab",
      "provenance": [],
      "collapsed_sections": []
    },
    "kernelspec": {
      "name": "python3",
      "display_name": "Python 3"
    },
    "language_info": {
      "name": "python"
    }
  },
  "cells": [
    {
      "cell_type": "markdown",
      "metadata": {
        "id": "lEkLvJ-vIlEW"
      },
      "source": [
        "Copyright 2021\n",
        " Google LLC.\n",
        "\n",
        "Licensed under the Apache License, Version 2.0 (the \"License\");"
      ]
    },
    {
      "cell_type": "code",
      "metadata": {
        "id": "DraB-yrMKKyH"
      },
      "source": [
        "#@title Copyright 2021 Google LLC.\n",
        "# Licensed under the Apache License, Version 2.0 (the \"License\");\n",
        "# you may not use this file except in compliance with the License.\n",
        "# You may obtain a copy of the License at\n",
        "#\n",
        "# https://www.apache.org/licenses/LICENSE-2.0\n",
        "#\n",
        "# Unless required by applicable law or agreed to in writing, software\n",
        "# distributed under the License is distributed on an \"AS IS\" BASIS,\n",
        "# WITHOUT WARRANTIES OR CONDITIONS OF ANY KIND, either express or implied.\n",
        "# See the License for the specific language governing permissions and\n",
        "# limitations under the License."
      ],
      "execution_count": null,
      "outputs": []
    },
    {
      "cell_type": "markdown",
      "metadata": {
        "id": "7TbN1KHiQm9e"
      },
      "source": [
        "# 📦 Assortment Quality - Product and Brand coverage monitoring\n",
        "\n",
        "**This is not an officially supported Google product.**\n",
        "\n",
        "Assortment Quality is an open-source solution that gives you an overview of the product and brand coverage of your\n",
        "Google Merchant center account.\n",
        "\n",
        "This notebook will guide you through the deployment process of this solution.\n",
        "\n",
        "## Clone the Github Repository\n",
        "\n",
        "First we need to retrieve the code from our Github repo using Git."
      ]
    },
    {
      "cell_type": "code",
      "metadata": {
        "id": "VIXWLNbUQohF"
      },
      "source": [
        "!apt-get install git\n",
        "!rm -rf assortment-quality-for-shopping-ads/\n",
        "!git clone https://github.com/google/assortment-quality-for-shopping-ads.git"
      ],
      "execution_count": null,
      "outputs": []
    },
    {
      "cell_type": "markdown",
      "metadata": {
        "id": "Wl5N4kV9UHP_"
      },
      "source": [
        "##Install dependencies \n",
        "We can now install all the required project dependencies."
      ]
    },
    {
      "cell_type": "code",
      "metadata": {
        "id": "fNcC59fDSQHd"
      },
      "source": [
        "!pip install -r assortment-quality-for-shopping-ads/requirements.txt"
      ],
      "execution_count": null,
      "outputs": []
    },
    {
      "cell_type": "markdown",
      "metadata": {
        "id": "nkRSzR8PWcRm"
      },
      "source": [
        "## Project configuration\n",
        "\n",
        "The next step is to enter all the parameters relative to your project.\n",
        "\n",
        "__project_id__: Is the ID if your [Google Cloud Platform](https://console.cloud.corp.google.com/) project. _(Please note that it can be different from your project name.)_\n",
        "\n",
        "___merchant_id___: Is your [Google Merchant Center's](https://merchants.google.com/) account ID.\n",
        "\n",
        "___region_name___: Is the [GCP region](https://cloud.google.com/compute/docs/regions-zones) where the BigQuery dataset should be created (it *will* be created there if you have not created it already) .\n",
        "\n",
        "___dataset_name___: The name of the dataset that will be used to store the tables needed by this solution. This name will also be used to create the dataset if it does not already exist.\n",
        "\n",
        "___language___: The language used to display the Shopping category names (ISO format)\n",
        "\n",
        "___country___: The country used for market analysis\n",
        "\n",
        "___expiration_time___: The number of days after which the table partitions will expire"
      ]
    },
    {
      "cell_type": "code",
      "metadata": {
        "id": "AGGUYEYeZdAX"
      },
      "source": [
        "project_id = \"fraperez-assortiment\" #@param {type:\"string\"}\n",
        "merchant_id = \"1234567890\" #@param {type:\"string\"}\n",
        "region_name = \"eu\" #@param [\"EU\", \"US\"] {allow-input: true}\n",
        "dataset_name = \"merchant_center\" #@param {type:\"string\"}\n",
        "language = \"en-US\" #@param {type:\"string\"}\n",
        "country = \"US\" #@param {type:\"string\"}\n",
        "expiration_time = 7 #@param {type:\"integer\"}\n"
      ],
      "execution_count": null,
      "outputs": []
    },
    {
      "cell_type": "markdown",
      "metadata": {
        "id": "EEMGJtV-Lq4X"
      },
      "source": [
        "From [Api & Services > Credentials](https://console.google.com/apis/credentials), click on **+ CREATE CREDENTIALS** and select \"**OAuth client ID**\".\n",
        "\n",
        "In **Application type**, select \"**Desktop app**\" and choose a name. Back on the **Credentials** page, download the JSON file of your client.\n",
        "\n",
        "You can then rename it to `client_secret.json` and upload it in the `assortment-quality-for-shopping-ads/` directory."
      ]
    },
    {
      "cell_type": "markdown",
      "metadata": {
        "id": "UYq9f1b5gVJ0"
      },
      "source": [
        "##Run the project\n",
        "\n",
        "**Warning :** If this is the first time you ever create a [Scheduled Query](https://console.google.com/bigquery/scheduled-queries), you should first create a dummy one **from the UI**, so that it triggers a OAuth screen. If you try running this script without doing this step you will run into an authentication error.\n"
      ]
    },
    {
      "cell_type": "code",
      "metadata": {
        "id": "-TmhngPnZbTX"
      },
      "source": [
        "!cd assortment-quality-for-shopping-ads/ && python main.py -p $project_id -m $merchant_id -r $region_name -d $dataset_name -l $language -c $country -e $expiration_time"
      ],
      "execution_count": null,
      "outputs": []
    },
    {
      "cell_type": "markdown",
      "metadata": {
        "id": "akbBNsAujwuP"
      },
      "source": [
        "## Copy our Data Studio template\n",
        "\n",
        "Follow [this link](https://datastudio.google.com/c/u/0/reporting/056cbf6a-81db-4679-8a3a-5d968f04170b/page/OdQMC/preview) and click on \"**Use template**\" on the upper right hand corner to create a copy and link your newly created tables as source for this dashboard."
      ]
    }
  ]
}
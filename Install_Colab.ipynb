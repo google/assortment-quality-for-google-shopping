{
  "nbformat": 4,
  "nbformat_minor": 0,
  "metadata": {
    "colab": {
      "name": "Assortment Quality - Install Colab",
      "provenance": [],
      "collapsed_sections": [],
      "authorship_tag": "ABX9TyNCm+BQ4zLYkuYfFREmz9nX",
      "include_colab_link": true
    },
    "kernelspec": {
      "name": "python3",
      "display_name": "Python 3"
    },
    "language_info": {
      "name": "python"
    }
  },
  "cells": [
    {
      "cell_type": "markdown",
      "metadata": {
        "id": "view-in-github",
        "colab_type": "text"
      },
      "source": [
        "<a href=\"https://colab.research.google.com/github/google/assortment-quality-for-google-shopping/blob/main/Install_Colab.ipynb\" target=\"_parent\"><img src=\"https://colab.research.google.com/assets/colab-badge.svg\" alt=\"Open In Colab\"/></a>"
      ]
    },
    {
      "cell_type": "markdown",
      "metadata": {
        "id": "7TbN1KHiQm9e"
      },
      "source": [
        "# 📦 Assortment Quality - Product and Brand coverage monitoring\n",
        "\n",
        "**This is not an officially supported Google product.**\n",
        "\n",
        "Assortment Quality is an open-source solution that gives you an overview of the product and brand coverage of your\n",
        "Google Merchant center account.\n",
        "\n",
        "This notebook will guide you through the deployment process of this solution.\n",
        "\n",
        "## Clone the Github Repository\n",
        "\n",
        "First we need to retrieve the code from our Github repo using Git."
      ]
    },
    {
      "cell_type": "code",
      "metadata": {
        "colab": {
          "base_uri": "https://localhost:8080/"
        },
        "id": "VIXWLNbUQohF",
        "outputId": "0c8b28da-2c72-4ff9-d328-cc5fdd29089c"
      },
      "source": [
        "!apt-get install git\n",
        "!rm -rf assortment-quality-for-google-shopping/\n",
        "!git clone https://github.com/google/assortment-quality-for-google-shopping.git\n",
        "!cd assortment-quality-for-google-shopping/"
      ],
      "execution_count": null,
      "outputs": [
        {
          "output_type": "stream",
          "text": [
            "Reading package lists... Done\n",
            "Building dependency tree       \n",
            "Reading state information... Done\n",
            "git is already the newest version (1:2.17.1-1ubuntu0.8).\n",
            "0 upgraded, 0 newly installed, 0 to remove and 40 not upgraded.\n",
            "Cloning into 'assortment-quality-for-google-shopping'...\n",
            "remote: Enumerating objects: 80, done.\u001b[K\n",
            "remote: Counting objects: 100% (80/80), done.\u001b[K\n",
            "remote: Compressing objects: 100% (45/45), done.\u001b[K\n",
            "remote: Total 80 (delta 48), reused 65 (delta 33), pack-reused 0\u001b[K\n",
            "Unpacking objects: 100% (80/80), done.\n"
          ],
          "name": "stdout"
        }
      ]
    },
    {
      "cell_type": "markdown",
      "metadata": {
        "id": "Wl5N4kV9UHP_"
      },
      "source": [
        "##Install dependencies \n",
        "We can now install all the required project dependencies."
      ]
    },
    {
      "cell_type": "code",
      "metadata": {
        "colab": {
          "base_uri": "https://localhost:8080/",
          "height": 1000
        },
        "id": "fNcC59fDSQHd",
        "outputId": "22e1ac14-ccc5-4395-d1c4-55281ad8fbd0"
      },
      "source": [
        "!pip install -r assortment-quality-for-google-shopping/requirements.txt"
      ],
      "execution_count": null,
      "outputs": [
        {
          "output_type": "stream",
          "text": [
            "Collecting cachetools==4.2.1\n",
            "  Downloading cachetools-4.2.1-py3-none-any.whl (12 kB)\n",
            "Collecting certifi==2020.12.5\n",
            "  Downloading certifi-2020.12.5-py2.py3-none-any.whl (147 kB)\n",
            "\u001b[K     |████████████████████████████████| 147 kB 7.7 MB/s \n",
            "\u001b[?25hCollecting chardet==4.0.0\n",
            "  Downloading chardet-4.0.0-py2.py3-none-any.whl (178 kB)\n",
            "\u001b[K     |████████████████████████████████| 178 kB 34.3 MB/s \n",
            "\u001b[?25hRequirement already satisfied: google-api-core==1.26.3 in /usr/local/lib/python3.7/dist-packages (from -r assortment-quality-for-google-shopping/requirements.txt (line 4)) (1.26.3)\n",
            "Collecting google-api-python-client==2.1.0\n",
            "  Downloading google_api_python_client-2.1.0-py2.py3-none-any.whl (6.6 MB)\n",
            "\u001b[K     |████████████████████████████████| 6.6 MB 41.3 MB/s \n",
            "\u001b[?25hCollecting google-auth==1.28.0\n",
            "  Downloading google_auth-1.28.0-py2.py3-none-any.whl (136 kB)\n",
            "\u001b[K     |████████████████████████████████| 136 kB 68.6 MB/s \n",
            "\u001b[?25hCollecting google-auth-httplib2==0.1.0\n",
            "  Downloading google_auth_httplib2-0.1.0-py2.py3-none-any.whl (9.3 kB)\n",
            "Requirement already satisfied: google-auth-oauthlib==0.4.4 in /usr/local/lib/python3.7/dist-packages (from -r assortment-quality-for-google-shopping/requirements.txt (line 8)) (0.4.4)\n",
            "Requirement already satisfied: googleapis-common-protos==1.53.0 in /usr/local/lib/python3.7/dist-packages (from -r assortment-quality-for-google-shopping/requirements.txt (line 9)) (1.53.0)\n",
            "Collecting httplib2==0.19.1\n",
            "  Downloading httplib2-0.19.1-py3-none-any.whl (95 kB)\n",
            "\u001b[K     |████████████████████████████████| 95 kB 4.4 MB/s \n",
            "\u001b[?25hRequirement already satisfied: idna==2.10 in /usr/local/lib/python3.7/dist-packages (from -r assortment-quality-for-google-shopping/requirements.txt (line 11)) (2.10)\n",
            "Requirement already satisfied: oauth2client==4.1.3 in /usr/local/lib/python3.7/dist-packages (from -r assortment-quality-for-google-shopping/requirements.txt (line 12)) (4.1.3)\n",
            "Collecting oauthlib==3.1.0\n",
            "  Downloading oauthlib-3.1.0-py2.py3-none-any.whl (147 kB)\n",
            "\u001b[K     |████████████████████████████████| 147 kB 62.6 MB/s \n",
            "\u001b[?25hCollecting packaging==20.9\n",
            "  Downloading packaging-20.9-py2.py3-none-any.whl (40 kB)\n",
            "\u001b[K     |████████████████████████████████| 40 kB 5.4 MB/s \n",
            "\u001b[?25hCollecting protobuf==3.15.6\n",
            "  Downloading protobuf-3.15.6-cp37-cp37m-manylinux1_x86_64.whl (1.0 MB)\n",
            "\u001b[K     |████████████████████████████████| 1.0 MB 31.3 MB/s \n",
            "\u001b[?25hRequirement already satisfied: pyasn1==0.4.8 in /usr/local/lib/python3.7/dist-packages (from -r assortment-quality-for-google-shopping/requirements.txt (line 16)) (0.4.8)\n",
            "Requirement already satisfied: pyasn1-modules==0.2.8 in /usr/local/lib/python3.7/dist-packages (from -r assortment-quality-for-google-shopping/requirements.txt (line 17)) (0.2.8)\n",
            "Requirement already satisfied: pyparsing==2.4.7 in /usr/local/lib/python3.7/dist-packages (from -r assortment-quality-for-google-shopping/requirements.txt (line 18)) (2.4.7)\n",
            "Collecting pytz==2021.1\n",
            "  Downloading pytz-2021.1-py2.py3-none-any.whl (510 kB)\n",
            "\u001b[K     |████████████████████████████████| 510 kB 53.9 MB/s \n",
            "\u001b[?25hCollecting requests==2.25.1\n",
            "  Downloading requests-2.25.1-py2.py3-none-any.whl (61 kB)\n",
            "\u001b[K     |████████████████████████████████| 61 kB 6.9 MB/s \n",
            "\u001b[?25hRequirement already satisfied: requests-oauthlib==1.3.0 in /usr/local/lib/python3.7/dist-packages (from -r assortment-quality-for-google-shopping/requirements.txt (line 21)) (1.3.0)\n",
            "Requirement already satisfied: rsa==4.7.2 in /usr/local/lib/python3.7/dist-packages (from -r assortment-quality-for-google-shopping/requirements.txt (line 22)) (4.7.2)\n",
            "Requirement already satisfied: six==1.15.0 in /usr/local/lib/python3.7/dist-packages (from -r assortment-quality-for-google-shopping/requirements.txt (line 23)) (1.15.0)\n",
            "Requirement already satisfied: uritemplate==3.0.1 in /usr/local/lib/python3.7/dist-packages (from -r assortment-quality-for-google-shopping/requirements.txt (line 24)) (3.0.1)\n",
            "Collecting urllib3==1.26.4\n",
            "  Downloading urllib3-1.26.4-py2.py3-none-any.whl (153 kB)\n",
            "\u001b[K     |████████████████████████████████| 153 kB 55.4 MB/s \n",
            "\u001b[?25hRequirement already satisfied: setuptools>=40.3.0 in /usr/local/lib/python3.7/dist-packages (from google-api-core==1.26.3->-r assortment-quality-for-google-shopping/requirements.txt (line 4)) (57.2.0)\n",
            "Installing collected packages: urllib3, protobuf, chardet, certifi, cachetools, requests, pytz, packaging, oauthlib, httplib2, google-auth, google-auth-httplib2, google-api-python-client\n",
            "  Attempting uninstall: urllib3\n",
            "    Found existing installation: urllib3 1.24.3\n",
            "    Uninstalling urllib3-1.24.3:\n",
            "      Successfully uninstalled urllib3-1.24.3\n",
            "  Attempting uninstall: protobuf\n",
            "    Found existing installation: protobuf 3.17.3\n",
            "    Uninstalling protobuf-3.17.3:\n",
            "      Successfully uninstalled protobuf-3.17.3\n",
            "  Attempting uninstall: chardet\n",
            "    Found existing installation: chardet 3.0.4\n",
            "    Uninstalling chardet-3.0.4:\n",
            "      Successfully uninstalled chardet-3.0.4\n",
            "  Attempting uninstall: certifi\n",
            "    Found existing installation: certifi 2021.5.30\n",
            "    Uninstalling certifi-2021.5.30:\n",
            "      Successfully uninstalled certifi-2021.5.30\n",
            "  Attempting uninstall: cachetools\n",
            "    Found existing installation: cachetools 4.2.2\n",
            "    Uninstalling cachetools-4.2.2:\n",
            "      Successfully uninstalled cachetools-4.2.2\n",
            "  Attempting uninstall: requests\n",
            "    Found existing installation: requests 2.23.0\n",
            "    Uninstalling requests-2.23.0:\n",
            "      Successfully uninstalled requests-2.23.0\n",
            "  Attempting uninstall: pytz\n",
            "    Found existing installation: pytz 2018.9\n",
            "    Uninstalling pytz-2018.9:\n",
            "      Successfully uninstalled pytz-2018.9\n",
            "  Attempting uninstall: packaging\n",
            "    Found existing installation: packaging 21.0\n",
            "    Uninstalling packaging-21.0:\n",
            "      Successfully uninstalled packaging-21.0\n",
            "  Attempting uninstall: oauthlib\n",
            "    Found existing installation: oauthlib 3.1.1\n",
            "    Uninstalling oauthlib-3.1.1:\n",
            "      Successfully uninstalled oauthlib-3.1.1\n",
            "  Attempting uninstall: httplib2\n",
            "    Found existing installation: httplib2 0.17.4\n",
            "    Uninstalling httplib2-0.17.4:\n",
            "      Successfully uninstalled httplib2-0.17.4\n",
            "  Attempting uninstall: google-auth\n",
            "    Found existing installation: google-auth 1.32.1\n",
            "    Uninstalling google-auth-1.32.1:\n",
            "      Successfully uninstalled google-auth-1.32.1\n",
            "  Attempting uninstall: google-auth-httplib2\n",
            "    Found existing installation: google-auth-httplib2 0.0.4\n",
            "    Uninstalling google-auth-httplib2-0.0.4:\n",
            "      Successfully uninstalled google-auth-httplib2-0.0.4\n",
            "  Attempting uninstall: google-api-python-client\n",
            "    Found existing installation: google-api-python-client 1.12.8\n",
            "    Uninstalling google-api-python-client-1.12.8:\n",
            "      Successfully uninstalled google-api-python-client-1.12.8\n",
            "\u001b[31mERROR: pip's dependency resolver does not currently take into account all the packages that are installed. This behaviour is the source of the following dependency conflicts.\n",
            "google-colab 1.0.0 requires requests~=2.23.0, but you have requests 2.25.1 which is incompatible.\n",
            "earthengine-api 0.1.272 requires google-api-python-client<2,>=1.12.1, but you have google-api-python-client 2.1.0 which is incompatible.\n",
            "datascience 0.10.6 requires folium==0.2.1, but you have folium 0.8.3 which is incompatible.\u001b[0m\n",
            "Successfully installed cachetools-4.2.1 certifi-2020.12.5 chardet-4.0.0 google-api-python-client-2.1.0 google-auth-1.28.0 google-auth-httplib2-0.1.0 httplib2-0.19.1 oauthlib-3.1.0 packaging-20.9 protobuf-3.15.6 pytz-2021.1 requests-2.25.1 urllib3-1.26.4\n"
          ],
          "name": "stdout"
        },
        {
          "output_type": "display_data",
          "data": {
            "application/vnd.colab-display-data+json": {
              "pip_warning": {
                "packages": [
                  "google",
                  "pytz"
                ]
              }
            }
          },
          "metadata": {
            "tags": []
          }
        }
      ]
    },
    {
      "cell_type": "markdown",
      "metadata": {
        "id": "nkRSzR8PWcRm"
      },
      "source": [
        "## Project configuration\n",
        "\n",
        "The next step is to enter all the parameters relative to your project.\n",
        "\n",
        "__project_id__ : Is the ID if your [Google Cloud Platform](https://console.cloud.corp.google.com/) project. _(Please note that it can be different from your project name.)_\n",
        "\n",
        "___merchant_id___ : Is your [Google Merchant Center's](https://merchants.google.com/) account ID.\n",
        "\n",
        "___region_name___ : Is the [GCP region](https://cloud.google.com/compute/docs/regions-zones) where the BigQuery dataset should be created (it *will* be created there if you have not created it already) .\n",
        "\n",
        "___dataset_name___ : The name of the dataset that will be used to store the tables needed by this solution. This name will also be used to create the dataset if it does not already exist."
      ]
    },
    {
      "cell_type": "code",
      "metadata": {
        "id": "AGGUYEYeZdAX"
      },
      "source": [
        "project_id = \"fraperez-assortiment\" #@param {type:\"string\"}\n",
        "merchant_id = \"124859654\" #@param {type:\"string\"}\n",
        "region_name = 'EU' #@param [\"EU\", \"US\"] {allow-input: true}\n",
        "dataset_name = \"merchant_center\" #@param {type:\"string\"}\n",
        "language = \"EN-en\" #@param {type:\"string\"}\n",
        "country = \"FR\" #@param {type:\"string\"}\n"
      ],
      "execution_count": null,
      "outputs": []
    },
    {
      "cell_type": "markdown",
      "metadata": {
        "id": "EEMGJtV-Lq4X"
      },
      "source": [
        "From [Api & Services > Credentials](https://pantheon.corp.google.com/apis/credentials?folder=&organizationId=&project=test-alligator-fraperez), click on **+ CREATE CREDENTIALS** and select \"**OAuth client ID**\".\n",
        "\n",
        "In **Application type**, select \"**Desktop app**\" and choose a name. Back on the **Credentials** page, download the JSON file of your client.\n",
        "\n",
        "You can then rename it to *client_secrets.json* and upload it in the *assortment-quality-for-google-shopping/* directory."
      ]
    },
    {
      "cell_type": "markdown",
      "metadata": {
        "id": "UYq9f1b5gVJ0"
      },
      "source": [
        "##Execution du projet\n"
      ]
    },
    {
      "cell_type": "code",
      "metadata": {
        "colab": {
          "base_uri": "https://localhost:8080/"
        },
        "id": "-TmhngPnZbTX",
        "outputId": "852cdf32-94db-42c2-b4d3-e83826add16e"
      },
      "source": [
        "!cd assortment-quality-for-google-shopping/ && python main.py -p $project_id -m $merchant_id -r $region_name -d $dataset_name -l $language -c $country"
      ],
      "execution_count": null,
      "outputs": [
        {
          "output_type": "stream",
          "text": [
            "Launching Assortment Quality ...\n",
            "/usr/local/lib/python3.7/dist-packages/oauth2client/_helpers.py:255: UserWarning: Cannot access credentials.dat: No such file or directory\n",
            "  warnings.warn(_MISSING_FILE_MESSAGE.format(filename))\n",
            "\n",
            "Go to the following link in your browser:\n",
            "\n",
            "    https://accounts.google.com/o/oauth2/auth?client_id=698433213577-2n7etmbsvm2uo0hn1do924765bj9g71m.apps.googleusercontent.com&redirect_uri=urn%3Aietf%3Awg%3Aoauth%3A2.0%3Aoob&scope=https%3A%2F%2Fwww.googleapis.com%2Fauth%2Fcloud-platform+https%3A%2F%2Fwww.googleapis.com%2Fauth%2Fbigquery&access_type=offline&response_type=code\n",
            "\n",
            "Enter verification code: 4/1AX4XfWhcTV-GtEVJ09UPJ1924vjrG1LwUfVrIqFU3beqjBOMy8jd0wJRZOQ\n",
            "Authentication successful.\n",
            "There is an existing Merchant Center data transfer for the same Merchant ID. If you want to replace it, please delete it from the UI and re-run this script.\n",
            "Merchant Center config already exists. Skipping Merchant Center config creation.\n",
            "There is an existing Scheduled Query called: Scheduled query : brand_coverage.\n",
            "  If you want to replace it, please delete it from the UI and re-run this script.\n",
            "\n",
            "There is an existing Scheduled Query called: Scheduled query : category_coverage.\n",
            "  If you want to replace it, please delete it from the UI and re-run this script.\n",
            "\n",
            "There is an existing Scheduled Query called: Scheduled query : product_coverage.\n",
            "  If you want to replace it, please delete it from the UI and re-run this script.\n",
            "\n",
            "There is an existing Scheduled Query called: Scheduled query : product_price_competitiveness.\n",
            "  If you want to replace it, please delete it from the UI and re-run this script.\n",
            "\n"
          ],
          "name": "stdout"
        }
      ]
    },
    {
      "cell_type": "markdown",
      "metadata": {
        "id": "akbBNsAujwuP"
      },
      "source": [
        "## Copy our Data Studio template\n",
        "\n",
        "Follow [this link](https://datastudio.google.com/c/u/0/reporting/056cbf6a-81db-4679-8a3a-5d968f04170b/page/OdQMC/preview) and click on \"**Use template**\" on the upper right hand corner to create a copy and link your newly created tables as source for this dashboard."
      ]
    }
  ]
}